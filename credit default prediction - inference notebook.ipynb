{
 "cells": [
  {
   "cell_type": "markdown",
   "id": "0f1f0277-77cf-41f0-85f8-839dada143d2",
   "metadata": {},
   "source": [
    "# Importing Libraries"
   ]
  },
  {
   "cell_type": "code",
   "execution_count": 1,
   "id": "a93852b4-9d98-465e-b7e6-8491fca2417a",
   "metadata": {},
   "outputs": [],
   "source": [
    "import pandas as pd\n",
    "import numpy as np\n",
    "import pickle\n",
    "import json"
   ]
  },
  {
   "cell_type": "markdown",
   "id": "35a68b50-6bfb-4697-a88a-816c9f3cd88a",
   "metadata": {},
   "source": [
    ">---"
   ]
  },
  {
   "cell_type": "markdown",
   "id": "4adac5d3-9211-4d93-9f72-e2571bbaa289",
   "metadata": {},
   "source": [
    "# Loading Files Needed"
   ]
  },
  {
   "cell_type": "code",
   "execution_count": 2,
   "id": "625de1f2-6cc3-4c87-a4e2-821dacaf5665",
   "metadata": {},
   "outputs": [],
   "source": [
    "with open('model_infer.pkl', 'rb') as file_1:\n",
    "    model_infer = pickle.load(file_1)\n",
    "\n",
    "with open('scaler_infer.pkl', 'rb') as file_2:\n",
    "    scaler_infer = pickle.load(file_2)\n",
    "\n",
    "with open('cat_selector_infer.pkl', 'rb') as file_5:\n",
    "    cat_selector_infer = pickle.load(file_5)\n",
    "\n",
    "with open('num_selector_infer.pkl', 'rb') as file_5:\n",
    "    num_selector_infer = pickle.load(file_5)\n",
    "\n",
    "with open('num_cols_list_infer.txt', 'r') as file_6:\n",
    "    num_cols_list_infer = json.load(file_6)\n",
    "\n",
    "with open('cat_cols_list_infer.txt', 'r') as file_6:\n",
    "    cat_cols_list_infer = json.load(file_6)"
   ]
  },
  {
   "cell_type": "markdown",
   "id": "78a01c37-2a9e-4f0a-9274-58a4d0e6b449",
   "metadata": {},
   "source": [
    ">---"
   ]
  },
  {
   "cell_type": "markdown",
   "id": "0b7a2dbb-16aa-4155-bc50-496b70a10e1b",
   "metadata": {},
   "source": [
    "# Making New Data to Infer"
   ]
  },
  {
   "cell_type": "code",
   "execution_count": 3,
   "id": "1f7109a2-9923-4161-af12-6c0ae13249e8",
   "metadata": {},
   "outputs": [],
   "source": [
    "data_infer = pd.DataFrame({'limit_balance':[200000, 200000, 200000, 100000, 100000],\n",
    "             'sex':[0,0,0,0,0],\n",
    "             'education_level':[9,9,9,9,9],\n",
    "             'marital_status':[3,3,3,3,3],\n",
    "             'age':[29,29,29,29,29],\n",
    "             'pay_0':[1,1,9,-1,6],\n",
    "             'pay_2':[1,1,1,1,1],\n",
    "             'pay_3':[1,1,1,1,1],\n",
    "             'pay_4':[1,1,1,1,1],\n",
    "             'pay_5':[1,1,1,1,1],\n",
    "             'pay_6':[1,1,1,1,1],\n",
    "             'bill_amt_1':[100000,0,0,0,0],\n",
    "             'bill_amt_2':[20000,20000,20000,20000,20000],\n",
    "             'bill_amt_3':[20000,20000,20000,20000,20000],\n",
    "             'bill_amt_4':[20000,20000,20000,20000,20000],\n",
    "             'bill_amt_5':[20000,20000,20000,20000,20000],\n",
    "             'bill_amt_6':[20000,20000,20000,20000,20000],\n",
    "             'pay_amt_1':[0,20000,20000,20000,20000],\n",
    "             'pay_amt_2':[0,20000,20000,20000,20000],\n",
    "             'pay_amt_3':[0,20000,20000,20000,20000],\n",
    "             'pay_amt_4':[0,20000,20000,20000,20000],\n",
    "             'pay_amt_5':[0,20000,20000,20000,20000],\n",
    "             'pay_amt_6':[0,20000,20000,20000,20000]})"
   ]
  },
  {
   "cell_type": "markdown",
   "id": "ce961b3f-c4eb-4b67-a38f-c123993e19b3",
   "metadata": {},
   "source": [
    "## Numerical Columns of data_infer"
   ]
  },
  {
   "cell_type": "code",
   "execution_count": 4,
   "id": "1bc65d4b-e765-45c1-9d4a-f61578d5dd1e",
   "metadata": {},
   "outputs": [
    {
     "data": {
      "text/html": [
       "<div>\n",
       "<style scoped>\n",
       "    .dataframe tbody tr th:only-of-type {\n",
       "        vertical-align: middle;\n",
       "    }\n",
       "\n",
       "    .dataframe tbody tr th {\n",
       "        vertical-align: top;\n",
       "    }\n",
       "\n",
       "    .dataframe thead th {\n",
       "        text-align: right;\n",
       "    }\n",
       "</style>\n",
       "<table border=\"1\" class=\"dataframe\">\n",
       "  <thead>\n",
       "    <tr style=\"text-align: right;\">\n",
       "      <th></th>\n",
       "      <th>limit_balance</th>\n",
       "      <th>pay_amt_1</th>\n",
       "      <th>pay_amt_2</th>\n",
       "      <th>pay_amt_3</th>\n",
       "      <th>pay_amt_4</th>\n",
       "      <th>pay_amt_5</th>\n",
       "      <th>pay_amt_6</th>\n",
       "    </tr>\n",
       "  </thead>\n",
       "  <tbody>\n",
       "    <tr>\n",
       "      <th>0</th>\n",
       "      <td>200000</td>\n",
       "      <td>0</td>\n",
       "      <td>0</td>\n",
       "      <td>0</td>\n",
       "      <td>0</td>\n",
       "      <td>0</td>\n",
       "      <td>0</td>\n",
       "    </tr>\n",
       "    <tr>\n",
       "      <th>1</th>\n",
       "      <td>200000</td>\n",
       "      <td>20000</td>\n",
       "      <td>20000</td>\n",
       "      <td>20000</td>\n",
       "      <td>20000</td>\n",
       "      <td>20000</td>\n",
       "      <td>20000</td>\n",
       "    </tr>\n",
       "    <tr>\n",
       "      <th>2</th>\n",
       "      <td>200000</td>\n",
       "      <td>20000</td>\n",
       "      <td>20000</td>\n",
       "      <td>20000</td>\n",
       "      <td>20000</td>\n",
       "      <td>20000</td>\n",
       "      <td>20000</td>\n",
       "    </tr>\n",
       "    <tr>\n",
       "      <th>3</th>\n",
       "      <td>100000</td>\n",
       "      <td>20000</td>\n",
       "      <td>20000</td>\n",
       "      <td>20000</td>\n",
       "      <td>20000</td>\n",
       "      <td>20000</td>\n",
       "      <td>20000</td>\n",
       "    </tr>\n",
       "    <tr>\n",
       "      <th>4</th>\n",
       "      <td>100000</td>\n",
       "      <td>20000</td>\n",
       "      <td>20000</td>\n",
       "      <td>20000</td>\n",
       "      <td>20000</td>\n",
       "      <td>20000</td>\n",
       "      <td>20000</td>\n",
       "    </tr>\n",
       "  </tbody>\n",
       "</table>\n",
       "</div>"
      ],
      "text/plain": [
       "   limit_balance  pay_amt_1  pay_amt_2  pay_amt_3  pay_amt_4  pay_amt_5  \\\n",
       "0         200000          0          0          0          0          0   \n",
       "1         200000      20000      20000      20000      20000      20000   \n",
       "2         200000      20000      20000      20000      20000      20000   \n",
       "3         100000      20000      20000      20000      20000      20000   \n",
       "4         100000      20000      20000      20000      20000      20000   \n",
       "\n",
       "   pay_amt_6  \n",
       "0          0  \n",
       "1      20000  \n",
       "2      20000  \n",
       "3      20000  \n",
       "4      20000  "
      ]
     },
     "execution_count": 4,
     "metadata": {},
     "output_type": "execute_result"
    }
   ],
   "source": [
    "num_cols_infer = data_infer[num_cols_list_infer]\n",
    "num_cols_infer"
   ]
  },
  {
   "cell_type": "markdown",
   "id": "d86e5246-fa11-4b08-bf70-17d2535b96cf",
   "metadata": {},
   "source": [
    "## categorical Columns of data_infer"
   ]
  },
  {
   "cell_type": "code",
   "execution_count": 5,
   "id": "d351d2a4-e141-40b8-9608-b8aa161de2b8",
   "metadata": {},
   "outputs": [
    {
     "data": {
      "text/html": [
       "<div>\n",
       "<style scoped>\n",
       "    .dataframe tbody tr th:only-of-type {\n",
       "        vertical-align: middle;\n",
       "    }\n",
       "\n",
       "    .dataframe tbody tr th {\n",
       "        vertical-align: top;\n",
       "    }\n",
       "\n",
       "    .dataframe thead th {\n",
       "        text-align: right;\n",
       "    }\n",
       "</style>\n",
       "<table border=\"1\" class=\"dataframe\">\n",
       "  <thead>\n",
       "    <tr style=\"text-align: right;\">\n",
       "      <th></th>\n",
       "      <th>pay_0</th>\n",
       "    </tr>\n",
       "  </thead>\n",
       "  <tbody>\n",
       "    <tr>\n",
       "      <th>0</th>\n",
       "      <td>1</td>\n",
       "    </tr>\n",
       "    <tr>\n",
       "      <th>1</th>\n",
       "      <td>1</td>\n",
       "    </tr>\n",
       "    <tr>\n",
       "      <th>2</th>\n",
       "      <td>9</td>\n",
       "    </tr>\n",
       "    <tr>\n",
       "      <th>3</th>\n",
       "      <td>-1</td>\n",
       "    </tr>\n",
       "    <tr>\n",
       "      <th>4</th>\n",
       "      <td>6</td>\n",
       "    </tr>\n",
       "  </tbody>\n",
       "</table>\n",
       "</div>"
      ],
      "text/plain": [
       "   pay_0\n",
       "0      1\n",
       "1      1\n",
       "2      9\n",
       "3     -1\n",
       "4      6"
      ]
     },
     "execution_count": 5,
     "metadata": {},
     "output_type": "execute_result"
    }
   ],
   "source": [
    "cat_cols_infer = data_infer[cat_cols_list_infer]\n",
    "cat_cols_infer"
   ]
  },
  {
   "cell_type": "markdown",
   "id": "5e2aeb69-d9ee-4453-91f3-2b3a48c32210",
   "metadata": {},
   "source": [
    ">---"
   ]
  },
  {
   "cell_type": "markdown",
   "id": "b4f14185-b52a-42e6-ac0c-559c6df13f8f",
   "metadata": {},
   "source": [
    "# Preparing Numerical Columns"
   ]
  },
  {
   "cell_type": "markdown",
   "id": "4d08a5e4-ead5-4c9d-8f0e-25a09185a043",
   "metadata": {},
   "source": [
    "## Scaling Numerical Columns Selected"
   ]
  },
  {
   "cell_type": "code",
   "execution_count": 6,
   "id": "cdf3797b-687b-4a11-94ea-12cbc35b383e",
   "metadata": {},
   "outputs": [],
   "source": [
    "num_cols_infer_scaled = scaler_infer.transform(num_cols_infer)"
   ]
  },
  {
   "cell_type": "code",
   "execution_count": 7,
   "id": "7e50b817-a10d-4ecc-822c-e094fe6573c6",
   "metadata": {},
   "outputs": [],
   "source": [
    "num_cols_infer_scaled = pd.DataFrame(num_cols_infer_scaled)"
   ]
  },
  {
   "cell_type": "code",
   "execution_count": 8,
   "id": "f3a417ec-f431-4ab8-b81b-da59aded012c",
   "metadata": {},
   "outputs": [
    {
     "data": {
      "text/html": [
       "<div>\n",
       "<style scoped>\n",
       "    .dataframe tbody tr th:only-of-type {\n",
       "        vertical-align: middle;\n",
       "    }\n",
       "\n",
       "    .dataframe tbody tr th {\n",
       "        vertical-align: top;\n",
       "    }\n",
       "\n",
       "    .dataframe thead th {\n",
       "        text-align: right;\n",
       "    }\n",
       "</style>\n",
       "<table border=\"1\" class=\"dataframe\">\n",
       "  <thead>\n",
       "    <tr style=\"text-align: right;\">\n",
       "      <th></th>\n",
       "      <th>0</th>\n",
       "      <th>1</th>\n",
       "      <th>2</th>\n",
       "      <th>3</th>\n",
       "      <th>4</th>\n",
       "      <th>5</th>\n",
       "      <th>6</th>\n",
       "    </tr>\n",
       "  </thead>\n",
       "  <tbody>\n",
       "    <tr>\n",
       "      <th>0</th>\n",
       "      <td>0.288993</td>\n",
       "      <td>-0.294292</td>\n",
       "      <td>-0.200364</td>\n",
       "      <td>-0.360962</td>\n",
       "      <td>-0.349019</td>\n",
       "      <td>-0.321058</td>\n",
       "      <td>-0.304754</td>\n",
       "    </tr>\n",
       "    <tr>\n",
       "      <th>1</th>\n",
       "      <td>0.288993</td>\n",
       "      <td>0.637245</td>\n",
       "      <td>0.431223</td>\n",
       "      <td>1.040993</td>\n",
       "      <td>1.226852</td>\n",
       "      <td>1.084470</td>\n",
       "      <td>0.827773</td>\n",
       "    </tr>\n",
       "    <tr>\n",
       "      <th>2</th>\n",
       "      <td>0.288993</td>\n",
       "      <td>0.637245</td>\n",
       "      <td>0.431223</td>\n",
       "      <td>1.040993</td>\n",
       "      <td>1.226852</td>\n",
       "      <td>1.084470</td>\n",
       "      <td>0.827773</td>\n",
       "    </tr>\n",
       "    <tr>\n",
       "      <th>3</th>\n",
       "      <td>-0.507662</td>\n",
       "      <td>0.637245</td>\n",
       "      <td>0.431223</td>\n",
       "      <td>1.040993</td>\n",
       "      <td>1.226852</td>\n",
       "      <td>1.084470</td>\n",
       "      <td>0.827773</td>\n",
       "    </tr>\n",
       "    <tr>\n",
       "      <th>4</th>\n",
       "      <td>-0.507662</td>\n",
       "      <td>0.637245</td>\n",
       "      <td>0.431223</td>\n",
       "      <td>1.040993</td>\n",
       "      <td>1.226852</td>\n",
       "      <td>1.084470</td>\n",
       "      <td>0.827773</td>\n",
       "    </tr>\n",
       "  </tbody>\n",
       "</table>\n",
       "</div>"
      ],
      "text/plain": [
       "          0         1         2         3         4         5         6\n",
       "0  0.288993 -0.294292 -0.200364 -0.360962 -0.349019 -0.321058 -0.304754\n",
       "1  0.288993  0.637245  0.431223  1.040993  1.226852  1.084470  0.827773\n",
       "2  0.288993  0.637245  0.431223  1.040993  1.226852  1.084470  0.827773\n",
       "3 -0.507662  0.637245  0.431223  1.040993  1.226852  1.084470  0.827773\n",
       "4 -0.507662  0.637245  0.431223  1.040993  1.226852  1.084470  0.827773"
      ]
     },
     "execution_count": 8,
     "metadata": {},
     "output_type": "execute_result"
    }
   ],
   "source": [
    "num_cols_infer_scaled"
   ]
  },
  {
   "cell_type": "markdown",
   "id": "ca056316-070b-48f4-8176-9c3830ac3861",
   "metadata": {},
   "source": [
    ">---"
   ]
  },
  {
   "cell_type": "markdown",
   "id": "8c5b0617-b47b-42d3-ade1-4e60e323ec39",
   "metadata": {},
   "source": [
    "# Merge Categorical Columns Encoded and Numerical Columns Scaled"
   ]
  },
  {
   "cell_type": "code",
   "execution_count": 9,
   "id": "d614440d-cfd6-4536-8d5b-cecc864797ea",
   "metadata": {},
   "outputs": [],
   "source": [
    "data_infer_concat = np.concatenate((num_cols_infer_scaled,cat_cols_infer), axis=1)"
   ]
  },
  {
   "cell_type": "markdown",
   "id": "7f63bf9c-3e1f-4ec4-8a63-df7cf4894408",
   "metadata": {},
   "source": [
    ">---"
   ]
  },
  {
   "cell_type": "markdown",
   "id": "26c283df-6b24-4790-9603-671065546d85",
   "metadata": {},
   "source": [
    "# Predict The New Data"
   ]
  },
  {
   "cell_type": "code",
   "execution_count": 10,
   "id": "490a4f43-dbb3-471a-b82d-afec65f019e2",
   "metadata": {},
   "outputs": [
    {
     "data": {
      "text/plain": [
       "array([1, 0, 1, 0, 1], dtype=int64)"
      ]
     },
     "execution_count": 10,
     "metadata": {},
     "output_type": "execute_result"
    }
   ],
   "source": [
    "model_infer.predict(data_infer_concat)"
   ]
  }
 ],
 "metadata": {
  "kernelspec": {
   "display_name": "Python 3 (ipykernel)",
   "language": "python",
   "name": "python3"
  },
  "language_info": {
   "codemirror_mode": {
    "name": "ipython",
    "version": 3
   },
   "file_extension": ".py",
   "mimetype": "text/x-python",
   "name": "python",
   "nbconvert_exporter": "python",
   "pygments_lexer": "ipython3",
   "version": "3.11.1"
  }
 },
 "nbformat": 4,
 "nbformat_minor": 5
}
